{
 "cells": [
  {
   "cell_type": "markdown",
   "metadata": {},
   "source": [
    "FINAL YEAR PROJECT - TEXT SUMMARIZATION AND CATEGORIZATION\n"
   ]
  },
  {
   "cell_type": "code",
   "execution_count": 1,
   "metadata": {},
   "outputs": [],
   "source": [
    "#NLTK\n",
    "import nltk\n",
    "from nltk.corpus import stopwords\n",
    "from nltk.tokenize import word_tokenize\n",
    "import heapq\n",
    "from string import punctuation\n",
    "punctuation = punctuation + '\\n'\n",
    "\n",
    "#Regular Expressions\n",
    "import re  \n",
    "\n",
    "#For data processing\n",
    "import pandas as pd\n",
    "import seaborn as sns\n",
    "import matplotlib.pyplot as plt"
   ]
  },
  {
   "cell_type": "code",
   "execution_count": 2,
   "metadata": {},
   "outputs": [
    {
     "data": {
      "text/html": [
       "<div>\n",
       "<style scoped>\n",
       "    .dataframe tbody tr th:only-of-type {\n",
       "        vertical-align: middle;\n",
       "    }\n",
       "\n",
       "    .dataframe tbody tr th {\n",
       "        vertical-align: top;\n",
       "    }\n",
       "\n",
       "    .dataframe thead th {\n",
       "        text-align: right;\n",
       "    }\n",
       "</style>\n",
       "<table border=\"1\" class=\"dataframe\">\n",
       "  <thead>\n",
       "    <tr style=\"text-align: right;\">\n",
       "      <th></th>\n",
       "      <th>ArticleId</th>\n",
       "      <th>Text</th>\n",
       "      <th>Category</th>\n",
       "    </tr>\n",
       "  </thead>\n",
       "  <tbody>\n",
       "    <tr>\n",
       "      <th>1278</th>\n",
       "      <td>1169</td>\n",
       "      <td>redknapp poised for saints southampton are set...</td>\n",
       "      <td>sport</td>\n",
       "    </tr>\n",
       "    <tr>\n",
       "      <th>695</th>\n",
       "      <td>374</td>\n",
       "      <td>aviator  creator  in oscars snub the man who s...</td>\n",
       "      <td>entertainment</td>\n",
       "    </tr>\n",
       "    <tr>\n",
       "      <th>1106</th>\n",
       "      <td>1950</td>\n",
       "      <td>huge rush for jet airways shares indian airlin...</td>\n",
       "      <td>business</td>\n",
       "    </tr>\n",
       "    <tr>\n",
       "      <th>584</th>\n",
       "      <td>900</td>\n",
       "      <td>williams stays on despite dispute matt william...</td>\n",
       "      <td>sport</td>\n",
       "    </tr>\n",
       "    <tr>\n",
       "      <th>101</th>\n",
       "      <td>813</td>\n",
       "      <td>ukip could sue veritas defectors the uk indepe...</td>\n",
       "      <td>politics</td>\n",
       "    </tr>\n",
       "    <tr>\n",
       "      <th>686</th>\n",
       "      <td>37</td>\n",
       "      <td>gamers snap up new sony psp gamers have bought...</td>\n",
       "      <td>tech</td>\n",
       "    </tr>\n",
       "    <tr>\n",
       "      <th>351</th>\n",
       "      <td>1851</td>\n",
       "      <td>kennedy to make temple address charles kennedy...</td>\n",
       "      <td>politics</td>\n",
       "    </tr>\n",
       "    <tr>\n",
       "      <th>214</th>\n",
       "      <td>31</td>\n",
       "      <td>royal couple watch nation s mood prince charle...</td>\n",
       "      <td>politics</td>\n",
       "    </tr>\n",
       "    <tr>\n",
       "      <th>381</th>\n",
       "      <td>1793</td>\n",
       "      <td>worldcom bosses  $54m payout ten former direct...</td>\n",
       "      <td>business</td>\n",
       "    </tr>\n",
       "    <tr>\n",
       "      <th>738</th>\n",
       "      <td>1280</td>\n",
       "      <td>wales want rugby league training wales could f...</td>\n",
       "      <td>sport</td>\n",
       "    </tr>\n",
       "    <tr>\n",
       "      <th>551</th>\n",
       "      <td>2023</td>\n",
       "      <td>us data sparks inflation worries wholesale pri...</td>\n",
       "      <td>business</td>\n",
       "    </tr>\n",
       "    <tr>\n",
       "      <th>1307</th>\n",
       "      <td>1571</td>\n",
       "      <td>donor attacks blair-brown  feud  the reported ...</td>\n",
       "      <td>politics</td>\n",
       "    </tr>\n",
       "    <tr>\n",
       "      <th>540</th>\n",
       "      <td>647</td>\n",
       "      <td>gritty return for prince of persia still baski...</td>\n",
       "      <td>tech</td>\n",
       "    </tr>\n",
       "    <tr>\n",
       "      <th>163</th>\n",
       "      <td>1769</td>\n",
       "      <td>curbishley delight for johansson charlton mana...</td>\n",
       "      <td>sport</td>\n",
       "    </tr>\n",
       "    <tr>\n",
       "      <th>1134</th>\n",
       "      <td>1599</td>\n",
       "      <td>fa probes crowd trouble the fa is to take acti...</td>\n",
       "      <td>sport</td>\n",
       "    </tr>\n",
       "    <tr>\n",
       "      <th>20</th>\n",
       "      <td>1547</td>\n",
       "      <td>hewitt overcomes wobble in sydney lleyton hewi...</td>\n",
       "      <td>sport</td>\n",
       "    </tr>\n",
       "    <tr>\n",
       "      <th>1073</th>\n",
       "      <td>2032</td>\n",
       "      <td>hi-tech posters guide commuters interactive po...</td>\n",
       "      <td>tech</td>\n",
       "    </tr>\n",
       "    <tr>\n",
       "      <th>1204</th>\n",
       "      <td>923</td>\n",
       "      <td>budget aston takes on porsche british car make...</td>\n",
       "      <td>business</td>\n",
       "    </tr>\n",
       "    <tr>\n",
       "      <th>502</th>\n",
       "      <td>1402</td>\n",
       "      <td>brazil plays down varig rescue the brazilian g...</td>\n",
       "      <td>business</td>\n",
       "    </tr>\n",
       "    <tr>\n",
       "      <th>1241</th>\n",
       "      <td>1150</td>\n",
       "      <td>berlin applauds hotel rwanda political thrille...</td>\n",
       "      <td>entertainment</td>\n",
       "    </tr>\n",
       "  </tbody>\n",
       "</table>\n",
       "</div>"
      ],
      "text/plain": [
       "      ArticleId                                               Text  \\\n",
       "1278       1169  redknapp poised for saints southampton are set...   \n",
       "695         374  aviator  creator  in oscars snub the man who s...   \n",
       "1106       1950  huge rush for jet airways shares indian airlin...   \n",
       "584         900  williams stays on despite dispute matt william...   \n",
       "101         813  ukip could sue veritas defectors the uk indepe...   \n",
       "686          37  gamers snap up new sony psp gamers have bought...   \n",
       "351        1851  kennedy to make temple address charles kennedy...   \n",
       "214          31  royal couple watch nation s mood prince charle...   \n",
       "381        1793  worldcom bosses  $54m payout ten former direct...   \n",
       "738        1280  wales want rugby league training wales could f...   \n",
       "551        2023  us data sparks inflation worries wholesale pri...   \n",
       "1307       1571  donor attacks blair-brown  feud  the reported ...   \n",
       "540         647  gritty return for prince of persia still baski...   \n",
       "163        1769  curbishley delight for johansson charlton mana...   \n",
       "1134       1599  fa probes crowd trouble the fa is to take acti...   \n",
       "20         1547  hewitt overcomes wobble in sydney lleyton hewi...   \n",
       "1073       2032  hi-tech posters guide commuters interactive po...   \n",
       "1204        923  budget aston takes on porsche british car make...   \n",
       "502        1402  brazil plays down varig rescue the brazilian g...   \n",
       "1241       1150  berlin applauds hotel rwanda political thrille...   \n",
       "\n",
       "           Category  \n",
       "1278          sport  \n",
       "695   entertainment  \n",
       "1106       business  \n",
       "584           sport  \n",
       "101        politics  \n",
       "686            tech  \n",
       "351        politics  \n",
       "214        politics  \n",
       "381        business  \n",
       "738           sport  \n",
       "551        business  \n",
       "1307       politics  \n",
       "540            tech  \n",
       "163           sport  \n",
       "1134          sport  \n",
       "20            sport  \n",
       "1073           tech  \n",
       "1204       business  \n",
       "502        business  \n",
       "1241  entertainment  "
      ]
     },
     "execution_count": 2,
     "metadata": {},
     "output_type": "execute_result"
    }
   ],
   "source": [
    "#Read the dataset csv file\n",
    "data = pd.read_csv(r\"dataset/bbc_news_dataset.csv\")\n",
    "data.sample(20)"
   ]
  },
  {
   "cell_type": "code",
   "execution_count": 3,
   "metadata": {},
   "outputs": [
    {
     "data": {
      "image/png": "[encoded data removed]",
      "text/plain": [
       "<Figure size 432x288 with 1 Axes>"
      ]
     },
     "metadata": {
      "needs_background": "light"
     },
     "output_type": "display_data"
    }
   ],
   "source": [
    "category_sizes = data.groupby('Category').size()\n",
    "sns.barplot(x = category_sizes.index, y= category_sizes)\n",
    "plt.xlabel('Category')\n",
    "plt.ylabel('Number of related articles')\n",
    "plt.show()"
   ]
  },
  {
   "cell_type": "markdown",
   "metadata": {},
   "source": [
    "1. TEXT PREPROCESSING"
   ]
  },
  {
   "cell_type": "code",
   "execution_count": 4,
   "metadata": {},
   "outputs": [],
   "source": [
    "#Preprocessing steps\n",
    "\n",
    "# 1. Remove all URL links like http and www\n",
    "def delete_links(input_text):\n",
    "        #out_text = re.sub(r'http\\S+', '', input_text)\n",
    "        out_text = re.sub(\"((http|https)://)*(www.)?\" +\n",
    "            \"[a-zA-Z0-9@:%._\\\\+~#?&//=]\" +\n",
    "            \"{2,256}\\\\.[a-z]\" +\n",
    "            \"{2,6}\\\\b([-a-zA-Z0-9@:%\" +\n",
    "            \"._\\\\+~#?&//=]*)\", \"\", input_text)\n",
    "        return out_text"
   ]
  },
  {
   "cell_type": "code",
   "execution_count": 5,
   "metadata": {},
   "outputs": [],
   "source": [
    "\n",
    "# 2. Remove HTML tags present in the text\n",
    "from bs4 import BeautifulSoup\n",
    "def strip_html_tags(input_text):\n",
    "    soup = BeautifulSoup(input_text, \"html.parser\")\n",
    "    out_text = soup.get_text(separator=\" \")\n",
    "    return out_text"
   ]
  },
  {
   "cell_type": "code",
   "execution_count": 6,
   "metadata": {},
   "outputs": [],
   "source": [
    "\n",
    "# 3. Convert some foreign characters in text like to normal characters\n",
    "# Ex: à, è, ù -> a, e, u\n",
    "import unidecode\n",
    "def convert_foreignchars(input_text):\n",
    "    out_text = unidecode.unidecode(input_text)\n",
    "    return out_text"
   ]
  },
  {
   "cell_type": "code",
   "execution_count": 7,
   "metadata": {},
   "outputs": [],
   "source": [
    "\n",
    "# 4. Removing extra symbols\n",
    "def remove_irrelevant_chars(input_text):\n",
    "    out_text = re.sub('[^a-zA-Z]',' ',input_text)\n",
    "    return out_text"
   ]
  },
  {
   "cell_type": "code",
   "execution_count": 8,
   "metadata": {},
   "outputs": [],
   "source": [
    "\n",
    "# 5. Removing extra whitespaces in text\n",
    "def remove_whitespace(input_text):\n",
    "    out_text = input_text.strip()\n",
    "    #out_text = \" \".join(input_text.split())\n",
    "    return \" \".join(out_text.split())"
   ]
  },
  {
   "cell_type": "code",
   "execution_count": 9,
   "metadata": {},
   "outputs": [],
   "source": [
    "\n",
    "# 6. Transform cases on the text (convert to lower-case)\n",
    "def transform_cases(input_text):\n",
    "    out_text = input_text.lower()\n",
    "    \n",
    "    return out_text"
   ]
  },
  {
   "cell_type": "code",
   "execution_count": 10,
   "metadata": {},
   "outputs": [],
   "source": [
    "\n",
    "# 7. Delete repeated characters\n",
    "# Ex: coool -> cool \n",
    "def delete_repeated_characters(input_text):\n",
    "    pattern  = r'(.)\\1{2,}'\n",
    "    out_text = re.sub(pattern, r\"\\1\\1\", input_text)\n",
    "\n",
    "    return out_text"
   ]
  },
  {
   "cell_type": "code",
   "execution_count": 11,
   "metadata": {},
   "outputs": [],
   "source": [
    "\n",
    "# 8. Lemmatization\n",
    "# Ex: saying -> say, took -> take\n",
    "from nltk.stem import WordNetLemmatizer\n",
    "def Lemmatization(input_text):\n",
    "    k = WordNetLemmatizer()\n",
    "    word_tokens = word_tokenize(input_text)\n",
    "\n",
    "    out_text = []\n",
    "    for w in word_tokens:\n",
    "        out_text.append(k.lemmatize(word = w, pos = 'v'))\n",
    "    \n",
    "    return ' '.join(out_text)\n"
   ]
  },
  {
   "cell_type": "code",
   "execution_count": 12,
   "metadata": {},
   "outputs": [
    {
     "name": "stdout",
     "output_type": "stream",
     "text": [
      "179\n",
      "['i', 'me', 'my', 'myself', 'we', 'our', 'ours', 'ourselves', 'you', \"you're\", \"you've\", \"you'll\", \"you'd\", 'your', 'yours', 'yourself', 'yourselves', 'he', 'him', 'his', 'himself', 'she', \"she's\", 'her', 'hers', 'herself', 'it', \"it's\", 'its', 'itself', 'they', 'them', 'their', 'theirs', 'themselves', 'what', 'which', 'who', 'whom', 'this', 'that', \"that'll\", 'these', 'those', 'am', 'is', 'are', 'was', 'were', 'be', 'been', 'being', 'have', 'has', 'had', 'having', 'do', 'does', 'did', 'doing', 'a', 'an', 'the', 'and', 'but', 'if', 'or', 'because', 'as', 'until', 'while', 'of', 'at', 'by', 'for', 'with', 'about', 'against', 'between', 'into', 'through', 'during', 'before', 'after', 'above', 'below', 'to', 'from', 'up', 'down', 'in', 'out', 'on', 'off', 'over', 'under', 'again', 'further', 'then', 'once', 'here', 'there', 'when', 'where', 'why', 'how', 'all', 'any', 'both', 'each', 'few', 'more', 'most', 'other', 'some', 'such', 'no', 'nor', 'not', 'only', 'own', 'same', 'so', 'than', 'too', 'very', 's', 't', 'can', 'will', 'just', 'don', \"don't\", 'should', \"should've\", 'now', 'd', 'll', 'm', 'o', 're', 've', 'y', 'ain', 'aren', \"aren't\", 'couldn', \"couldn't\", 'didn', \"didn't\", 'doesn', \"doesn't\", 'hadn', \"hadn't\", 'hasn', \"hasn't\", 'haven', \"haven't\", 'isn', \"isn't\", 'ma', 'mightn', \"mightn't\", 'mustn', \"mustn't\", 'needn', \"needn't\", 'shan', \"shan't\", 'shouldn', \"shouldn't\", 'wasn', \"wasn't\", 'weren', \"weren't\", 'won', \"won't\", 'wouldn', \"wouldn't\"]\n"
     ]
    }
   ],
   "source": [
    "# List of stop words\n",
    "STOP_WORDS = nltk.corpus.stopwords.words('english')\n",
    "print(len(STOP_WORDS))\n",
    "print(STOP_WORDS)"
   ]
  },
  {
   "cell_type": "code",
   "execution_count": 13,
   "metadata": {},
   "outputs": [],
   "source": [
    "\n",
    "# 9. Remove stopwords\n",
    "# Ex: the, an, in, for\n",
    "def remove_stopwords(input_text): \n",
    "    stop_words = set(stopwords.words('english'))\n",
    " \n",
    "    word_tokens = word_tokenize(input_text)\n",
    " \n",
    "    out_text = []\n",
    " \n",
    "    for w in word_tokens:\n",
    "        if w not in stop_words:\n",
    "            out_text.append(w)\n",
    "    #print(word_tokens)\n",
    "    \n",
    "    return ' '.join(out_text)"
   ]
  },
  {
   "cell_type": "code",
   "execution_count": 14,
   "metadata": {},
   "outputs": [],
   "source": [
    "def text_prepare(input_text):\n",
    "    out_text = delete_links(input_text)\n",
    "    out_text = strip_html_tags(out_text)\n",
    "    out_text = convert_foreignchars(out_text)\n",
    "    out_text = remove_irrelevant_chars(out_text)\n",
    "    out_text = remove_whitespace(out_text)\n",
    "    out_text = transform_cases(out_text)\n",
    "    out_text = delete_repeated_characters(out_text)\n",
    "    out_text = Lemmatization(out_text)\n",
    "    out_text = remove_stopwords(out_text)\n",
    "    return out_text"
   ]
  },
  {
   "cell_type": "code",
   "execution_count": 15,
   "metadata": {},
   "outputs": [],
   "source": [
    "def text_prepare2(input_text):\n",
    "    out_text = remove_whitespace(input_text)\n",
    "    return out_text"
   ]
  },
  {
   "cell_type": "code",
   "execution_count": 16,
   "metadata": {},
   "outputs": [
    {
     "data": {
      "text/html": [
       "<div>\n",
       "<style scoped>\n",
       "    .dataframe tbody tr th:only-of-type {\n",
       "        vertical-align: middle;\n",
       "    }\n",
       "\n",
       "    .dataframe tbody tr th {\n",
       "        vertical-align: top;\n",
       "    }\n",
       "\n",
       "    .dataframe thead th {\n",
       "        text-align: right;\n",
       "    }\n",
       "</style>\n",
       "<table border=\"1\" class=\"dataframe\">\n",
       "  <thead>\n",
       "    <tr style=\"text-align: right;\">\n",
       "      <th></th>\n",
       "      <th>ArticleId</th>\n",
       "      <th>Text</th>\n",
       "      <th>Category</th>\n",
       "      <th>Processed Text</th>\n",
       "    </tr>\n",
       "  </thead>\n",
       "  <tbody>\n",
       "    <tr>\n",
       "      <th>1263</th>\n",
       "      <td>886</td>\n",
       "      <td>gronkjaer agrees switch to madrid jesper gronk...</td>\n",
       "      <td>sport</td>\n",
       "      <td>gronkjaer agree switch madrid jesper gronkjaer...</td>\n",
       "    </tr>\n",
       "    <tr>\n",
       "      <th>1058</th>\n",
       "      <td>2201</td>\n",
       "      <td>uk pioneers digital film network the world s f...</td>\n",
       "      <td>tech</td>\n",
       "      <td>uk pioneer digital film network world first di...</td>\n",
       "    </tr>\n",
       "    <tr>\n",
       "      <th>561</th>\n",
       "      <td>293</td>\n",
       "      <td>christmas song formula  unveiled a formula for...</td>\n",
       "      <td>entertainment</td>\n",
       "      <td>christmas song formula unveil formula ultimate...</td>\n",
       "    </tr>\n",
       "    <tr>\n",
       "      <th>1384</th>\n",
       "      <td>1969</td>\n",
       "      <td>brussels raps mobile call charges the european...</td>\n",
       "      <td>business</td>\n",
       "      <td>brussels rap mobile call charge european commi...</td>\n",
       "    </tr>\n",
       "    <tr>\n",
       "      <th>140</th>\n",
       "      <td>1411</td>\n",
       "      <td>help for indies in download sales a campaign h...</td>\n",
       "      <td>entertainment</td>\n",
       "      <td>help indies download sales campaign launch hel...</td>\n",
       "    </tr>\n",
       "  </tbody>\n",
       "</table>\n",
       "</div>"
      ],
      "text/plain": [
       "      ArticleId                                               Text  \\\n",
       "1263        886  gronkjaer agrees switch to madrid jesper gronk...   \n",
       "1058       2201  uk pioneers digital film network the world s f...   \n",
       "561         293  christmas song formula  unveiled a formula for...   \n",
       "1384       1969  brussels raps mobile call charges the european...   \n",
       "140        1411  help for indies in download sales a campaign h...   \n",
       "\n",
       "           Category                                     Processed Text  \n",
       "1263          sport  gronkjaer agree switch madrid jesper gronkjaer...  \n",
       "1058           tech  uk pioneer digital film network world first di...  \n",
       "561   entertainment  christmas song formula unveil formula ultimate...  \n",
       "1384       business  brussels rap mobile call charge european commi...  \n",
       "140   entertainment  help indies download sales campaign launch hel...  "
      ]
     },
     "execution_count": 16,
     "metadata": {},
     "output_type": "execute_result"
    }
   ],
   "source": [
    "data['Processed Text'] = data['Text'].apply(text_prepare)\n",
    "data.sample(5)"
   ]
  },
  {
   "cell_type": "markdown",
   "metadata": {},
   "source": [
    "2. TEXT SUMMARIZATION\n"
   ]
  },
  {
   "cell_type": "code",
   "execution_count": 17,
   "metadata": {},
   "outputs": [],
   "source": [
    "\n",
    "def nltk_summarizer(input_text, number_of_sentences):\n",
    "    stopWords = set(nltk.corpus.stopwords.words(\"english\"))\n",
    "    word_frequencies = {}\n",
    "    k = nltk.word_tokenize(text_prepare(input_text))\n",
    "    for word in k:  \n",
    "        if word not in stopWords:\n",
    "            if word not in punctuation:\n",
    "                try:\n",
    "                    word_frequencies[word] += 1\n",
    "                except:\n",
    "                    word_frequencies[word] = 1\n",
    "\n",
    "    maximum_frequency = max(word_frequencies.values())\n",
    "    #print(maximum_frequency)\n",
    "\n",
    "    # finding weighted frequency\n",
    "    for word in word_frequencies.keys():  \n",
    "        word_frequencies[word] = (word_frequencies[word]/maximum_frequency)\n",
    "\n",
    "    #print(word_frequencies)\n",
    "\n",
    "    max_sent_len = 35\n",
    "\n",
    "    sentence_list = nltk.sent_tokenize(input_text)\n",
    "    sentence_scores = {}  \n",
    "    for sent in sentence_list:  \n",
    "        for word in nltk.word_tokenize(sent.lower()):\n",
    "            if word in word_frequencies.keys():\n",
    "                if len(sent.split(' ')) < max_sent_len:\n",
    "                    try:\n",
    "                        sentence_scores[sent] += word_frequencies[word]\n",
    "                    except:\n",
    "                        sentence_scores[sent] = word_frequencies[word]\n",
    "\n",
    "    summary_sentences = heapq.nlargest(number_of_sentences,sentence_scores, key = sentence_scores.get)\n",
    "    #print(summary_sentences)\n",
    "    summary = ' '.join(summary_sentences)\n",
    "    return text_prepare2(summary)"
   ]
  },
  {
   "cell_type": "markdown",
   "metadata": {},
   "source": [
    "3. TEXT CATEGROIZATION"
   ]
  },
  {
   "cell_type": "code",
   "execution_count": 18,
   "metadata": {},
   "outputs": [
    {
     "data": {
      "text/html": [
       "<div>\n",
       "<style scoped>\n",
       "    .dataframe tbody tr th:only-of-type {\n",
       "        vertical-align: middle;\n",
       "    }\n",
       "\n",
       "    .dataframe tbody tr th {\n",
       "        vertical-align: top;\n",
       "    }\n",
       "\n",
       "    .dataframe thead th {\n",
       "        text-align: right;\n",
       "    }\n",
       "</style>\n",
       "<table border=\"1\" class=\"dataframe\">\n",
       "  <thead>\n",
       "    <tr style=\"text-align: right;\">\n",
       "      <th></th>\n",
       "      <th>ArticleId</th>\n",
       "      <th>Text</th>\n",
       "      <th>Category</th>\n",
       "      <th>Processed Text</th>\n",
       "      <th>Category Encoded</th>\n",
       "    </tr>\n",
       "  </thead>\n",
       "  <tbody>\n",
       "    <tr>\n",
       "      <th>765</th>\n",
       "      <td>1415</td>\n",
       "      <td>doves soar to uk album summit manchester rock ...</td>\n",
       "      <td>entertainment</td>\n",
       "      <td>doves soar uk album summit manchester rock ban...</td>\n",
       "      <td>1</td>\n",
       "    </tr>\n",
       "    <tr>\n",
       "      <th>523</th>\n",
       "      <td>496</td>\n",
       "      <td>thousands join strike in wales thousands of ci...</td>\n",
       "      <td>politics</td>\n",
       "      <td>thousands join strike wales thousands civil se...</td>\n",
       "      <td>2</td>\n",
       "    </tr>\n",
       "    <tr>\n",
       "      <th>691</th>\n",
       "      <td>2003</td>\n",
       "      <td>salary scandal in cameroon cameroon says wides...</td>\n",
       "      <td>business</td>\n",
       "      <td>salary scandal cameroon cameroon say widesprea...</td>\n",
       "      <td>0</td>\n",
       "    </tr>\n",
       "    <tr>\n",
       "      <th>281</th>\n",
       "      <td>513</td>\n",
       "      <td>digital guru floats sub-$100 pc nicholas negro...</td>\n",
       "      <td>tech</td>\n",
       "      <td>digital guru float sub pc nicholas negroponte ...</td>\n",
       "      <td>4</td>\n",
       "    </tr>\n",
       "    <tr>\n",
       "      <th>767</th>\n",
       "      <td>252</td>\n",
       "      <td>federer joins all-time greats the last year ha...</td>\n",
       "      <td>sport</td>\n",
       "      <td>federer join time greats last year see one pla...</td>\n",
       "      <td>3</td>\n",
       "    </tr>\n",
       "  </tbody>\n",
       "</table>\n",
       "</div>"
      ],
      "text/plain": [
       "     ArticleId                                               Text  \\\n",
       "765       1415  doves soar to uk album summit manchester rock ...   \n",
       "523        496  thousands join strike in wales thousands of ci...   \n",
       "691       2003  salary scandal in cameroon cameroon says wides...   \n",
       "281        513  digital guru floats sub-$100 pc nicholas negro...   \n",
       "767        252  federer joins all-time greats the last year ha...   \n",
       "\n",
       "          Category                                     Processed Text  \\\n",
       "765  entertainment  doves soar uk album summit manchester rock ban...   \n",
       "523       politics  thousands join strike wales thousands civil se...   \n",
       "691       business  salary scandal cameroon cameroon say widesprea...   \n",
       "281           tech  digital guru float sub pc nicholas negroponte ...   \n",
       "767          sport  federer join time greats last year see one pla...   \n",
       "\n",
       "     Category Encoded  \n",
       "765                 1  \n",
       "523                 2  \n",
       "691                 0  \n",
       "281                 4  \n",
       "767                 3  "
      ]
     },
     "execution_count": 18,
     "metadata": {},
     "output_type": "execute_result"
    }
   ],
   "source": [
    "# Label Encoding\n",
    "from sklearn.preprocessing import LabelEncoder\n",
    "\n",
    "label_encoder = LabelEncoder()\n",
    "data['Category Encoded'] = label_encoder.fit_transform(data['Category'])\n",
    "\n",
    "data.sample(5)"
   ]
  },
  {
   "cell_type": "code",
   "execution_count": 19,
   "metadata": {},
   "outputs": [],
   "source": [
    "from sklearn.model_selection import train_test_split\n",
    "X_train, X_test, y_train, y_test = train_test_split(data['Processed Text'], data['Category Encoded'], test_size=0.2, random_state=0)"
   ]
  },
  {
   "cell_type": "markdown",
   "metadata": {},
   "source": [
    "TF-IDF VECTORIZER"
   ]
  },
  {
   "cell_type": "code",
   "execution_count": 20,
   "metadata": {},
   "outputs": [],
   "source": [
    "#tf-idf\n",
    "from sklearn.feature_extraction.text import TfidfVectorizer\n",
    "def tfidf_features(X_train, X_test):\n",
    "    tfidf_vectorizer = TfidfVectorizer(min_df=2, max_df=0.5, ngram_range=(1,2))\n",
    "    X_train = tfidf_vectorizer.fit_transform(X_train)\n",
    "    X_test = tfidf_vectorizer.transform(X_test)\n",
    "    return X_train, X_test"
   ]
  },
  {
   "cell_type": "code",
   "execution_count": 21,
   "metadata": {},
   "outputs": [],
   "source": [
    "features_train, features_test = tfidf_features(X_train, X_test)"
   ]
  },
  {
   "cell_type": "code",
   "execution_count": 22,
   "metadata": {},
   "outputs": [],
   "source": [
    "from sklearn.metrics import accuracy_score\n",
    "from sklearn.linear_model import LogisticRegression\n",
    "from sklearn.neighbors import KNeighborsClassifier\n",
    "from sklearn.naive_bayes import GaussianNB\n",
    "from sklearn.linear_model import RidgeClassifier\n",
    "\n",
    "def fit_model(model_name):\n",
    "    if model_name == 'ridge_model':\n",
    "        model_name = RidgeClassifier()\n",
    "    elif model_name == 'logistic_regression_model':\n",
    "        model_name = LogisticRegression()\n",
    "    elif model_name == 'kneighbors_model':\n",
    "        model_name = KNeighborsClassifier()\n",
    "    elif model_name == 'gaussian_nb_model':\n",
    "        model_name = GaussianNB()\n",
    "    \n",
    "    model_name.fit(features_train.toarray(), y_train)\n",
    "    model_predictions = model_name.predict(features_test.toarray())\n",
    "    print(\"Accuracy: \", accuracy_score(y_test, model_predictions))\n",
    "    return model_name"
   ]
  },
  {
   "cell_type": "code",
   "execution_count": 23,
   "metadata": {},
   "outputs": [],
   "source": [
    "categories = ['Economy & Business', 'Diverse News', 'Politics', 'Sports', 'Technology']"
   ]
  },
  {
   "cell_type": "code",
   "execution_count": 24,
   "metadata": {},
   "outputs": [],
   "source": [
    "def TSC(input_text, number_of_sentences, model_name):\n",
    "    # new_text = text_prepare(input_text)\n",
    "    summary_text = nltk_summarizer(input_text, number_of_sentences)\n",
    "    print(\"-------------------------------------------------------------------------------------------------------------------------------\")\n",
    "    print(\"... Summary ...\")\n",
    "    print(\"-------------------------------------------------------------------------------------------------------------------------------\")\n",
    "    print(summary_text)\n",
    "    print(\"-------------------------------------------------------------------------------------------------------------------------------\")\n",
    "    input_text_arr = [text_prepare(input_text)]\n",
    "    features_train, features_test = tfidf_features(X_train, input_text_arr)\n",
    "    text_prediction = model_name.predict(features_test.toarray())\n",
    "    print(\"Text category:\", categories[text_prediction[0]])\n",
    "    print(\"-------------------------------------------------------------------------------------------------------------------------------\")"
   ]
  },
  {
   "cell_type": "code",
   "execution_count": 25,
   "metadata": {},
   "outputs": [
    {
     "name": "stdout",
     "output_type": "stream",
     "text": [
      "Accuracy:  0.9798657718120806\n"
     ]
    }
   ],
   "source": [
    "import pickle\n",
    "ridge_model = fit_model('ridge_model')\n",
    "pickle.dump(ridge_model, open('ML_models/ridge_model.pkl','wb'))"
   ]
  },
  {
   "cell_type": "code",
   "execution_count": 26,
   "metadata": {},
   "outputs": [
    {
     "name": "stdout",
     "output_type": "stream",
     "text": [
      "Accuracy:  0.9865771812080537\n"
     ]
    }
   ],
   "source": [
    "logistic_regression_model = fit_model('logistic_regression_model')\n",
    "pickle.dump(logistic_regression_model, open('ML_models/logistic_regression_model.pkl','wb'))"
   ]
  },
  {
   "cell_type": "code",
   "execution_count": 27,
   "metadata": {},
   "outputs": [
    {
     "name": "stdout",
     "output_type": "stream",
     "text": [
      "Accuracy:  0.9563758389261745\n"
     ]
    }
   ],
   "source": [
    "kneighbors_model = fit_model('kneighbors_model')\n",
    "pickle.dump(kneighbors_model, open('ML_models/kneighbors_model.pkl','wb'))"
   ]
  },
  {
   "cell_type": "code",
   "execution_count": 28,
   "metadata": {},
   "outputs": [
    {
     "name": "stdout",
     "output_type": "stream",
     "text": [
      "Accuracy:  0.9530201342281879\n"
     ]
    }
   ],
   "source": [
    "gaussian_nb_model = fit_model('gaussian_nb_model')\n",
    "pickle.dump(gaussian_nb_model, open('ML_models/gaussian_nb_model.pkl','wb'))"
   ]
  },
  {
   "cell_type": "markdown",
   "metadata": {},
   "source": [
    "TESTING WITH EXAMPLES"
   ]
  },
  {
   "cell_type": "code",
   "execution_count": 29,
   "metadata": {},
   "outputs": [],
   "source": [
    "test_1 = \"\"\"Political parties are constituted based on the same ideology and thinking.\n",
    "Political parties are divided as left and right. \n",
    "Lefts are liberal, secular and pro-government ideologies, while the right is majoritarian, pro-poor and rebellious. \n",
    "In any country, politics incorporate the ruling government and the opposition party. \n",
    "Good politics consists of the government and its opposition, both working for its development.\n",
    "Politics is not only restricted to the ruling government. \n",
    "It is also about the others who are still in the race to achieve the same passion. \n",
    "During the political debates and sessions, the opposition parties can question the ruling government. \n",
    "Opposition parties help the people to know about the plans implemented by the present government. \n",
    "These all can only be achieved by doing politics.\n",
    "Political parties, for their gain, try to divide people based on class, creed and religion. \n",
    "This term is usually called communal polarisation. \n",
    "These cunning political parties play these innocent voters of India by making fancy promises in the name of development.\"\"\""
   ]
  },
  {
   "cell_type": "code",
   "execution_count": 30,
   "metadata": {},
   "outputs": [
    {
     "name": "stdout",
     "output_type": "stream",
     "text": [
      "-------------------------------------------------------------------------------------------------------------------------------\n",
      "... Summary ...\n",
      "-------------------------------------------------------------------------------------------------------------------------------\n",
      "In any country, politics incorporate the ruling government and the opposition party. During the political debates and sessions, the opposition parties can question the ruling government. Good politics consists of the government and its opposition, both working for its development. Opposition parties help the people to know about the plans implemented by the present government. Political parties, for their gain, try to divide people based on class, creed and religion. These cunning political parties play these innocent voters of India by making fancy promises in the name of development.\n",
      "-------------------------------------------------------------------------------------------------------------------------------\n",
      "Text category: Politics\n",
      "-------------------------------------------------------------------------------------------------------------------------------\n"
     ]
    }
   ],
   "source": [
    "TSC(test_1,6,kneighbors_model)"
   ]
  },
  {
   "cell_type": "code",
   "execution_count": 31,
   "metadata": {},
   "outputs": [],
   "source": [
    "test_2 = \"\"\"In this essay on technology, we are going to discuss what technology is, what are its uses, and also what technology can do? \n",
    "First of all, technology refers to the use of technical and scientific knowledge to create, monitor, and design machinery. \n",
    "Also, technology helps in making other goods that aid mankind. Experts are debating on this topic for years. \n",
    "Also, the technology covered a long way to make human life easier but the negative aspect of it can’t be ignored. \n",
    "Over the years technological advancement has caused a severe rise in pollution. \n",
    "Also, pollution has become a major cause of many health issues. \n",
    "Besides, it has cut off people from society rather than connecting them. \n",
    "Above all, it has taken away many jobs from the workers class.\n",
    "As they are completely different fields but they are interdependent on each other. \n",
    "Also, it is due to science contribution we can create new innovation and build new technological tools. \n",
    "Apart from that, the research conducted in laboratories contributes a lot to the development of technologies. \n",
    "On the other hand, technology extends the agenda of science.\n",
    "Regularly evolving technology has become an important part of our lives. \n",
    "Also, newer technologies are taking the market by storm and the people are getting used to them in no time. \n",
    "Above all, technological advancement has led to the growth and development of nations.\n",
    "Although technology is a good thing, everything has two sides. \n",
    "Technology also has two sides one is good and the other is bad.\n",
    "With new technology the industrialization increases which give birth to many pollutions like air, water, soil, and noise. \n",
    "Also, they cause many health-related issues in animals, birds, and human beings.\n",
    "New technology requires new resources for which the balance is disturbed. \n",
    "Eventually, this will lead to over-exploitation of natural resources which ultimately disturbs the balance of nature.\n",
    "A single machine can replace many workers. \n",
    "Also, machines can do work at a constant pace for several hours or days without stopping. \n",
    "Due to this, many workers lost their job which ultimately increases unemployment.\n",
    "Generally, we judge technology on the same scale but in reality, technology is divided into various types. \"\"\""
   ]
  },
  {
   "cell_type": "code",
   "execution_count": 32,
   "metadata": {},
   "outputs": [
    {
     "name": "stdout",
     "output_type": "stream",
     "text": [
      "-------------------------------------------------------------------------------------------------------------------------------\n",
      "... Summary ...\n",
      "-------------------------------------------------------------------------------------------------------------------------------\n",
      "In this essay on technology, we are going to discuss what technology is, what are its uses, and also what technology can do? With new technology the industrialization increases which give birth to many pollutions like air, water, soil, and noise. Also, the technology covered a long way to make human life easier but the negative aspect of it can’t be ignored. Generally, we judge technology on the same scale but in reality, technology is divided into various types. Also, it is due to science contribution we can create new innovation and build new technological tools. Technology also has two sides one is good and the other is bad. New technology requires new resources for which the balance is disturbed. Also, technology helps in making other goods that aid mankind. First of all, technology refers to the use of technical and scientific knowledge to create, monitor, and design machinery.\n",
      "-------------------------------------------------------------------------------------------------------------------------------\n",
      "Text category: Technology\n",
      "-------------------------------------------------------------------------------------------------------------------------------\n"
     ]
    }
   ],
   "source": [
    "TSC(test_2, 9, gaussian_nb_model)"
   ]
  },
  {
   "cell_type": "code",
   "execution_count": 33,
   "metadata": {},
   "outputs": [],
   "source": [
    "test_3 = \"\"\"As Cricket has various formats, it has a different fan base for each of them. \n",
    "Some people like watching test matches because of their intensity and authenticity. \n",
    "While some enjoy Twenty-20, that require minimum engagement and are highly entertaining. \n",
    "Test Match is a format of cricket that is quite traditional.\n",
    "It lasts up to five days and two countries play against each other in this match. \n",
    "Next up, we have the National League Systems, also called counties in England. \n",
    "Their duration is for three to four days.\n",
    "Limited Overs Cricket is another type of sport where the number of episodes decides the format and length of the game. \n",
    "Both the teams get to play a single inning and thus results are determined.\n",
    "However, if it rains, they apply the Duck worth- Lewis Method to attain results. One of the most common formats is One Day International also known as ODI. Two countries play against each other for a total of fifty overs. Finally, this is probably the most entertaining format of cricket, the Twenty-20. It only has 20 overs to play and is quite exciting and engaging.\"\"\""
   ]
  },
  {
   "cell_type": "code",
   "execution_count": 34,
   "metadata": {},
   "outputs": [
    {
     "name": "stdout",
     "output_type": "stream",
     "text": [
      "-------------------------------------------------------------------------------------------------------------------------------\n",
      "... Summary ...\n",
      "-------------------------------------------------------------------------------------------------------------------------------\n",
      "Limited Overs Cricket is another type of sport where the number of episodes decides the format and length of the game. Test Match is a format of cricket that is quite traditional. It lasts up to five days and two countries play against each other in this match. Two countries play against each other for a total of fifty overs. Finally, this is probably the most entertaining format of cricket, the Twenty-20.\n",
      "-------------------------------------------------------------------------------------------------------------------------------\n",
      "Text category: Sports\n",
      "-------------------------------------------------------------------------------------------------------------------------------\n"
     ]
    }
   ],
   "source": [
    "TSC(test_3, 5, ridge_model)"
   ]
  },
  {
   "cell_type": "code",
   "execution_count": 35,
   "metadata": {},
   "outputs": [],
   "source": [
    "test_4 = \"\"\"Business is a very demanding profession that has broadened and popularized over the years. \n",
    "A business requires high skills of management, teamwork, patience, mental strength, and effectiveness of work. \n",
    "A person should be mentally prepared to accept the fall of a business at any point of time in their life since it is not always secure. \n",
    "But, if planned properly, with help from the expertise and patiently blossomed over the years, then a business has a greater rate of success.\n",
    "A business generally works with the coordination of several activities. \n",
    "Accounting, financial management, manufacturing, marketing, research and development, safety, and sales management are the various components that need to be tended to while running a good business with the aim of success. \n",
    "Investors, creditors, and regulators play a pivotal role in the profit of a business. \n",
    "Generally, there are four main types of businesses, which include sole proprietorships, partnerships, limited liability companies (LLC), and corporations. \n",
    "Before initiating a business, the entrepreneurs should carefully consider which structure is best suited for their enterprise.\"\"\""
   ]
  },
  {
   "cell_type": "code",
   "execution_count": 36,
   "metadata": {},
   "outputs": [
    {
     "name": "stdout",
     "output_type": "stream",
     "text": [
      "-------------------------------------------------------------------------------------------------------------------------------\n",
      "... Summary ...\n",
      "-------------------------------------------------------------------------------------------------------------------------------\n",
      "Accounting, financial management, manufacturing, marketing, research and development, safety, and sales management are the various components that need to be tended to while running a good business with the aim of success. A business requires high skills of management, teamwork, patience, mental strength, and effectiveness of work. A person should be mentally prepared to accept the fall of a business at any point of time in their life since it is not always secure. But, if planned properly, with help from the expertise and patiently blossomed over the years, then a business has a greater rate of success. Investors, creditors, and regulators play a pivotal role in the profit of a business.\n",
      "-------------------------------------------------------------------------------------------------------------------------------\n",
      "Text category: Economy & Business\n",
      "-------------------------------------------------------------------------------------------------------------------------------\n"
     ]
    }
   ],
   "source": [
    "TSC(test_4, 5, kneighbors_model)"
   ]
  },
  {
   "cell_type": "code",
   "execution_count": 37,
   "metadata": {},
   "outputs": [],
   "source": [
    "test_5 = \"\"\"Legendary music studio to close the new york music studio where john lennon spent his final hours is to close next month.\n",
    "The hit factory  which opened 37 years ago  has played host to some of the biggest stars in music  including paul simon, madonna and david bowie. \n",
    "However  the rise in digital recording has affected business at the studio  which is relocating to smaller premises in miami. \n",
    "Lennon recorded his final album double fantasy at the studio in 1979.\n",
    "The studio was founded by jerry ragovoy in 1968.\n",
    "In 1975 it was sold to fellow producer edward germano  who turned it into a 100 000 square foot studio with seven recording rooms and live mastering suites.\n",
    "His first client was stevie wonder  who recorded part of his classic album songs in the key of life there.\n",
    "Other well-known albums to be recorded or partially recorded at the studio include bruce springsteen's born in the usa  the rolling stones  emotional rescue and paul simon s graceland. \n",
    "Michael jackson  billy joel  jay-z and beyonce are also among artists who have used the hit factory in the past  as well as 50 cent who survived an attempt on his life as he left the premises in 2000. \n",
    "The studio made history in 1994 when it won a record 41 grammy nominations for songs recorded  mastered or mixed there  including the soundtrack to the whitney houston film the bodyguard.\"\"\""
   ]
  },
  {
   "cell_type": "code",
   "execution_count": 38,
   "metadata": {},
   "outputs": [
    {
     "name": "stdout",
     "output_type": "stream",
     "text": [
      "-------------------------------------------------------------------------------------------------------------------------------\n",
      "... Summary ...\n",
      "-------------------------------------------------------------------------------------------------------------------------------\n",
      "Legendary music studio to close the new york music studio where john lennon spent his final hours is to close next month. The studio made history in 1994 when it won a record 41 grammy nominations for songs recorded mastered or mixed there including the soundtrack to the whitney houston film the bodyguard. Other well-known albums to be recorded or partially recorded at the studio include bruce springsteen's born in the usa the rolling stones emotional rescue and paul simon s graceland. The hit factory which opened 37 years ago has played host to some of the biggest stars in music including paul simon, madonna and david bowie. Lennon recorded his final album double fantasy at the studio in 1979. In 1975 it was sold to fellow producer edward germano who turned it into a 100 000 square foot studio with seven recording rooms and live mastering suites.\n",
      "-------------------------------------------------------------------------------------------------------------------------------\n",
      "Text category: Diverse News\n",
      "-------------------------------------------------------------------------------------------------------------------------------\n"
     ]
    }
   ],
   "source": [
    "TSC(test_5, 6, logistic_regression_model)"
   ]
  }
 ],
 "metadata": {
  "interpreter": {
   "hash": "31f2aee4e71d21fbe5cf8b01ff0e069b9275f58929596ceb00d14d90e3e16cd6"
  },
  "kernelspec": {
   "display_name": "Python 3.6.9 64-bit",
   "language": "python",
   "name": "python3"
  },
  "language_info": {
   "codemirror_mode": {
    "name": "ipython",
    "version": 3
   },
   "file_extension": ".py",
   "mimetype": "text/x-python",
   "name": "python",
   "nbconvert_exporter": "python",
   "pygments_lexer": "ipython3",
   "version": "3.6.9"
  },
  "orig_nbformat": 4
 },
 "nbformat": 4,
 "nbformat_minor": 2
}
